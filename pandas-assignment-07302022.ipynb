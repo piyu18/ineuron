{
 "cells": [
  {
   "cell_type": "code",
   "execution_count": 103,
   "id": "435faeb3",
   "metadata": {},
   "outputs": [
    {
     "name": "stderr",
     "output_type": "stream",
     "text": [
      "C:\\Users\\priya\\anaconda3\\lib\\site-packages\\openpyxl\\styles\\stylesheet.py:226: UserWarning: Workbook contains no default style, apply openpyxl's default\n",
      "  warn(\"Workbook contains no default style, apply openpyxl's default\")\n"
     ]
    },
    {
     "data": {
      "text/html": [
       "<div>\n",
       "<style scoped>\n",
       "    .dataframe tbody tr th:only-of-type {\n",
       "        vertical-align: middle;\n",
       "    }\n",
       "\n",
       "    .dataframe tbody tr th {\n",
       "        vertical-align: top;\n",
       "    }\n",
       "\n",
       "    .dataframe thead th {\n",
       "        text-align: right;\n",
       "    }\n",
       "</style>\n",
       "<table border=\"1\" class=\"dataframe\">\n",
       "  <thead>\n",
       "    <tr style=\"text-align: right;\">\n",
       "      <th></th>\n",
       "      <th>SL No</th>\n",
       "      <th>Date</th>\n",
       "      <th>Agent Name</th>\n",
       "      <th>Total Chats</th>\n",
       "      <th>Average Response Time</th>\n",
       "      <th>Average Resolution Time</th>\n",
       "      <th>Average Rating</th>\n",
       "      <th>Total Feedback</th>\n",
       "    </tr>\n",
       "  </thead>\n",
       "  <tbody>\n",
       "    <tr>\n",
       "      <th>0</th>\n",
       "      <td>1</td>\n",
       "      <td>2022-07-30</td>\n",
       "      <td>Prerna Singh</td>\n",
       "      <td>11</td>\n",
       "      <td>00:00:38</td>\n",
       "      <td>00:04:20</td>\n",
       "      <td>4.11</td>\n",
       "      <td>9</td>\n",
       "    </tr>\n",
       "    <tr>\n",
       "      <th>1</th>\n",
       "      <td>2</td>\n",
       "      <td>2022-07-30</td>\n",
       "      <td>Nandani Gupta</td>\n",
       "      <td>11</td>\n",
       "      <td>00:01:15</td>\n",
       "      <td>00:28:25</td>\n",
       "      <td>3.14</td>\n",
       "      <td>7</td>\n",
       "    </tr>\n",
       "    <tr>\n",
       "      <th>2</th>\n",
       "      <td>3</td>\n",
       "      <td>2022-07-30</td>\n",
       "      <td>Ameya Jain</td>\n",
       "      <td>14</td>\n",
       "      <td>00:00:30</td>\n",
       "      <td>00:11:36</td>\n",
       "      <td>4.55</td>\n",
       "      <td>11</td>\n",
       "    </tr>\n",
       "    <tr>\n",
       "      <th>3</th>\n",
       "      <td>4</td>\n",
       "      <td>2022-07-30</td>\n",
       "      <td>Mahesh Sarade</td>\n",
       "      <td>14</td>\n",
       "      <td>00:01:04</td>\n",
       "      <td>00:15:46</td>\n",
       "      <td>4.71</td>\n",
       "      <td>7</td>\n",
       "    </tr>\n",
       "    <tr>\n",
       "      <th>4</th>\n",
       "      <td>5</td>\n",
       "      <td>2022-07-30</td>\n",
       "      <td>Swati</td>\n",
       "      <td>14</td>\n",
       "      <td>00:01:11</td>\n",
       "      <td>00:16:33</td>\n",
       "      <td>3.67</td>\n",
       "      <td>6</td>\n",
       "    </tr>\n",
       "  </tbody>\n",
       "</table>\n",
       "</div>"
      ],
      "text/plain": [
       "   SL No        Date     Agent Name  Total Chats Average Response Time  \\\n",
       "0      1  2022-07-30   Prerna Singh           11              00:00:38   \n",
       "1      2  2022-07-30  Nandani Gupta           11              00:01:15   \n",
       "2      3  2022-07-30     Ameya Jain           14              00:00:30   \n",
       "3      4  2022-07-30  Mahesh Sarade           14              00:01:04   \n",
       "4      5  2022-07-30         Swati            14              00:01:11   \n",
       "\n",
       "  Average Resolution Time  Average Rating  Total Feedback  \n",
       "0                00:04:20            4.11               9  \n",
       "1                00:28:25            3.14               7  \n",
       "2                00:11:36            4.55              11  \n",
       "3                00:15:46            4.71               7  \n",
       "4                00:16:33            3.67               6  "
      ]
     },
     "execution_count": 103,
     "metadata": {},
     "output_type": "execute_result"
    }
   ],
   "source": [
    "import pandas as pd\n",
    "df = pd.read_excel('AgentPerformance.xlsx',skiprows=1)\n",
    "df.head()"
   ]
  },
  {
   "cell_type": "code",
   "execution_count": 3,
   "id": "14904618",
   "metadata": {},
   "outputs": [
    {
     "data": {
      "text/plain": [
       "SL No                        int64\n",
       "Date                        object\n",
       "Agent Name                  object\n",
       "Total Chats                  int64\n",
       "Average Response Time       object\n",
       "Average Resolution Time     object\n",
       "Average Rating             float64\n",
       "Total Feedback               int64\n",
       "dtype: object"
      ]
     },
     "execution_count": 3,
     "metadata": {},
     "output_type": "execute_result"
    }
   ],
   "source": [
    "df.dtypes"
   ]
  },
  {
   "cell_type": "markdown",
   "id": "320a3526",
   "metadata": {},
   "source": [
    "#### 1 .Find out there avarage rating on weekly basis keep this in a mind that they take two days of leave\n"
   ]
  },
  {
   "cell_type": "code",
   "execution_count": 104,
   "id": "5126c1eb",
   "metadata": {},
   "outputs": [],
   "source": [
    "df['date']=pd.to_datetime(df['Date'])"
   ]
  },
  {
   "cell_type": "code",
   "execution_count": 105,
   "id": "7d7293a6",
   "metadata": {},
   "outputs": [
    {
     "data": {
      "text/html": [
       "<div>\n",
       "<style scoped>\n",
       "    .dataframe tbody tr th:only-of-type {\n",
       "        vertical-align: middle;\n",
       "    }\n",
       "\n",
       "    .dataframe tbody tr th {\n",
       "        vertical-align: top;\n",
       "    }\n",
       "\n",
       "    .dataframe thead th {\n",
       "        text-align: right;\n",
       "    }\n",
       "</style>\n",
       "<table border=\"1\" class=\"dataframe\">\n",
       "  <thead>\n",
       "    <tr style=\"text-align: right;\">\n",
       "      <th></th>\n",
       "      <th>SL No</th>\n",
       "      <th>Date</th>\n",
       "      <th>Agent Name</th>\n",
       "      <th>Total Chats</th>\n",
       "      <th>Average Response Time</th>\n",
       "      <th>Average Resolution Time</th>\n",
       "      <th>Average Rating</th>\n",
       "      <th>Total Feedback</th>\n",
       "      <th>date</th>\n",
       "    </tr>\n",
       "  </thead>\n",
       "  <tbody>\n",
       "    <tr>\n",
       "      <th>0</th>\n",
       "      <td>1</td>\n",
       "      <td>2022-07-30</td>\n",
       "      <td>Prerna Singh</td>\n",
       "      <td>11</td>\n",
       "      <td>00:00:38</td>\n",
       "      <td>00:04:20</td>\n",
       "      <td>4.11</td>\n",
       "      <td>9</td>\n",
       "      <td>2022-07-30</td>\n",
       "    </tr>\n",
       "    <tr>\n",
       "      <th>1</th>\n",
       "      <td>2</td>\n",
       "      <td>2022-07-30</td>\n",
       "      <td>Nandani Gupta</td>\n",
       "      <td>11</td>\n",
       "      <td>00:01:15</td>\n",
       "      <td>00:28:25</td>\n",
       "      <td>3.14</td>\n",
       "      <td>7</td>\n",
       "      <td>2022-07-30</td>\n",
       "    </tr>\n",
       "  </tbody>\n",
       "</table>\n",
       "</div>"
      ],
      "text/plain": [
       "   SL No        Date     Agent Name  Total Chats Average Response Time  \\\n",
       "0      1  2022-07-30   Prerna Singh           11              00:00:38   \n",
       "1      2  2022-07-30  Nandani Gupta           11              00:01:15   \n",
       "\n",
       "  Average Resolution Time  Average Rating  Total Feedback       date  \n",
       "0                00:04:20            4.11               9 2022-07-30  \n",
       "1                00:28:25            3.14               7 2022-07-30  "
      ]
     },
     "execution_count": 105,
     "metadata": {},
     "output_type": "execute_result"
    }
   ],
   "source": [
    "df.head(2)"
   ]
  },
  {
   "cell_type": "code",
   "execution_count": 106,
   "id": "bf8ea851",
   "metadata": {},
   "outputs": [],
   "source": [
    "df['date_week']=df['date'].dt.isocalendar().week"
   ]
  },
  {
   "cell_type": "code",
   "execution_count": 107,
   "id": "2e9acfc5",
   "metadata": {},
   "outputs": [],
   "source": [
    "df['date_days']=df['date'].dt.day"
   ]
  },
  {
   "cell_type": "code",
   "execution_count": 121,
   "id": "6c8765ba",
   "metadata": {},
   "outputs": [],
   "source": [
    "df_mean=df.groupby(['Agent Name','date_week'])['Average Rating'].mean().to_frame()"
   ]
  },
  {
   "cell_type": "code",
   "execution_count": 122,
   "id": "ecfc94a7",
   "metadata": {},
   "outputs": [
    {
     "data": {
      "text/html": [
       "<div>\n",
       "<style scoped>\n",
       "    .dataframe tbody tr th:only-of-type {\n",
       "        vertical-align: middle;\n",
       "    }\n",
       "\n",
       "    .dataframe tbody tr th {\n",
       "        vertical-align: top;\n",
       "    }\n",
       "\n",
       "    .dataframe thead th {\n",
       "        text-align: right;\n",
       "    }\n",
       "</style>\n",
       "<table border=\"1\" class=\"dataframe\">\n",
       "  <thead>\n",
       "    <tr style=\"text-align: right;\">\n",
       "      <th></th>\n",
       "      <th></th>\n",
       "      <th>Average Rating</th>\n",
       "    </tr>\n",
       "    <tr>\n",
       "      <th>Agent Name</th>\n",
       "      <th>date_week</th>\n",
       "      <th></th>\n",
       "    </tr>\n",
       "  </thead>\n",
       "  <tbody>\n",
       "    <tr>\n",
       "      <th rowspan=\"5\" valign=\"top\">Abhishek</th>\n",
       "      <th>26</th>\n",
       "      <td>0.000000</td>\n",
       "    </tr>\n",
       "    <tr>\n",
       "      <th>27</th>\n",
       "      <td>0.000000</td>\n",
       "    </tr>\n",
       "    <tr>\n",
       "      <th>28</th>\n",
       "      <td>0.000000</td>\n",
       "    </tr>\n",
       "    <tr>\n",
       "      <th>29</th>\n",
       "      <td>0.000000</td>\n",
       "    </tr>\n",
       "    <tr>\n",
       "      <th>30</th>\n",
       "      <td>0.000000</td>\n",
       "    </tr>\n",
       "    <tr>\n",
       "      <th>...</th>\n",
       "      <th>...</th>\n",
       "      <td>...</td>\n",
       "    </tr>\n",
       "    <tr>\n",
       "      <th rowspan=\"5\" valign=\"top\">Zeeshan</th>\n",
       "      <th>26</th>\n",
       "      <td>0.000000</td>\n",
       "    </tr>\n",
       "    <tr>\n",
       "      <th>27</th>\n",
       "      <td>1.307143</td>\n",
       "    </tr>\n",
       "    <tr>\n",
       "      <th>28</th>\n",
       "      <td>2.948571</td>\n",
       "    </tr>\n",
       "    <tr>\n",
       "      <th>29</th>\n",
       "      <td>3.180000</td>\n",
       "    </tr>\n",
       "    <tr>\n",
       "      <th>30</th>\n",
       "      <td>2.760000</td>\n",
       "    </tr>\n",
       "  </tbody>\n",
       "</table>\n",
       "<p>350 rows × 1 columns</p>\n",
       "</div>"
      ],
      "text/plain": [
       "                      Average Rating\n",
       "Agent Name date_week                \n",
       "Abhishek   26               0.000000\n",
       "           27               0.000000\n",
       "           28               0.000000\n",
       "           29               0.000000\n",
       "           30               0.000000\n",
       "...                              ...\n",
       "Zeeshan    26               0.000000\n",
       "           27               1.307143\n",
       "           28               2.948571\n",
       "           29               3.180000\n",
       "           30               2.760000\n",
       "\n",
       "[350 rows x 1 columns]"
      ]
     },
     "execution_count": 122,
     "metadata": {},
     "output_type": "execute_result"
    }
   ],
   "source": [
    "df_mean"
   ]
  },
  {
   "cell_type": "markdown",
   "id": "f90b80b7",
   "metadata": {},
   "source": [
    "#### 2 .Total working days for each agents "
   ]
  },
  {
   "cell_type": "code",
   "execution_count": 38,
   "id": "231ee458",
   "metadata": {},
   "outputs": [
    {
     "data": {
      "text/plain": [
       "Agent Name\n",
       "Abhishek         30\n",
       "Aditya           30\n",
       "Aditya Shinde    30\n",
       "Aditya_iot       30\n",
       "Amersh           30\n",
       "                 ..\n",
       "Uday Mishra      30\n",
       "Vasanth P        30\n",
       "Vivek            30\n",
       "Wasim            30\n",
       "Zeeshan          30\n",
       "Name: date_days, Length: 70, dtype: int64"
      ]
     },
     "execution_count": 38,
     "metadata": {},
     "output_type": "execute_result"
    }
   ],
   "source": [
    "df.groupby('Agent Name')['date_days'].count()\n",
    "    "
   ]
  },
  {
   "cell_type": "markdown",
   "id": "71933bdf",
   "metadata": {},
   "source": [
    "#### 3. Total query that you have taken "
   ]
  },
  {
   "cell_type": "code",
   "execution_count": 36,
   "id": "c74f953e",
   "metadata": {},
   "outputs": [
    {
     "data": {
      "text/plain": [
       "Agent Name\n",
       "Abhishek           0\n",
       "Aditya             0\n",
       "Aditya Shinde    277\n",
       "Aditya_iot       231\n",
       "Amersh             0\n",
       "                ... \n",
       "Uday Mishra        0\n",
       "Vasanth P          0\n",
       "Vivek             44\n",
       "Wasim            433\n",
       "Zeeshan          542\n",
       "Name: Total Chats, Length: 70, dtype: int64"
      ]
     },
     "execution_count": 36,
     "metadata": {},
     "output_type": "execute_result"
    }
   ],
   "source": [
    "df.groupby('Agent Name')['Total Chats'].sum()"
   ]
  },
  {
   "cell_type": "markdown",
   "id": "6b01da3d",
   "metadata": {},
   "source": [
    "#### 4. Total Feedback that you have received"
   ]
  },
  {
   "cell_type": "code",
   "execution_count": 40,
   "id": "94249430",
   "metadata": {},
   "outputs": [
    {
     "data": {
      "text/plain": [
       "Agent Name\n",
       "Abhishek           0\n",
       "Aditya             0\n",
       "Aditya Shinde    153\n",
       "Aditya_iot       131\n",
       "Amersh             0\n",
       "                ... \n",
       "Uday Mishra        0\n",
       "Vasanth P          0\n",
       "Vivek             20\n",
       "Wasim            284\n",
       "Zeeshan          335\n",
       "Name: Total Feedback, Length: 70, dtype: int64"
      ]
     },
     "execution_count": 40,
     "metadata": {},
     "output_type": "execute_result"
    }
   ],
   "source": [
    "df.groupby('Agent Name')['Total Feedback'].sum()"
   ]
  },
  {
   "cell_type": "markdown",
   "id": "9af952de",
   "metadata": {},
   "source": [
    "#### 5. Agent name who have average rating between 3.5 to 4 "
   ]
  },
  {
   "cell_type": "code",
   "execution_count": 44,
   "id": "32db523c",
   "metadata": {},
   "outputs": [
    {
     "data": {
      "text/plain": [
       "4                    Swati \n",
       "10             Manjunatha A\n",
       "73      Boktiar Ahmed Bappy\n",
       "76            Prateek _iot \n",
       "78            Nandani Gupta\n",
       "               ...         \n",
       "1941         Jawala Prakash\n",
       "2018          Sanjeev Kumar\n",
       "2021          Aditya Shinde\n",
       "2023       Deepranjan Gupta\n",
       "2097          Sanjeev Kumar\n",
       "Name: Agent Name, Length: 111, dtype: object"
      ]
     },
     "execution_count": 44,
     "metadata": {},
     "output_type": "execute_result"
    }
   ],
   "source": [
    "df[(df['Average Rating']>3.5) & (df['Average Rating']<=4)]['Agent Name']"
   ]
  },
  {
   "cell_type": "markdown",
   "id": "dee0d872",
   "metadata": {},
   "source": [
    "#### 6 . Agent name who have rating lesss then 3.5"
   ]
  },
  {
   "cell_type": "code",
   "execution_count": 46,
   "id": "bcb6e57f",
   "metadata": {},
   "outputs": [
    {
     "data": {
      "text/plain": [
       "1            Nandani Gupta\n",
       "19        Hitesh Choudhary\n",
       "20              Sanjeevan \n",
       "21                Anirudh \n",
       "22        Shiva Srivastava\n",
       "               ...        \n",
       "2155     Sowmiya Sivakumar\n",
       "2156               Nitin M\n",
       "2157                Vivek \n",
       "2158         Ayushi Mishra\n",
       "2159    Chaitra K Hiremath\n",
       "Name: Agent Name, Length: 1474, dtype: object"
      ]
     },
     "execution_count": 46,
     "metadata": {},
     "output_type": "execute_result"
    }
   ],
   "source": [
    "df[(df['Average Rating']<3.5)]['Agent Name']"
   ]
  },
  {
   "cell_type": "markdown",
   "id": "0cffd40a",
   "metadata": {},
   "source": [
    "#### 7 . Agent name who have rating more then 4.5 "
   ]
  },
  {
   "cell_type": "code",
   "execution_count": 47,
   "id": "86ee1ba3",
   "metadata": {},
   "outputs": [
    {
     "data": {
      "text/plain": [
       "2               Ameya Jain\n",
       "3            Mahesh Sarade\n",
       "5                  Mukesh \n",
       "6          Saikumarreddy N\n",
       "7            Sanjeev Kumar\n",
       "               ...        \n",
       "2100        Shubham Sharma\n",
       "2101         Jaydeep Dixit\n",
       "2102    Shivananda Sonwane\n",
       "2103        Khushboo Priya\n",
       "2104       Hrisikesh Neogi\n",
       "Name: Agent Name, Length: 307, dtype: object"
      ]
     },
     "execution_count": 47,
     "metadata": {},
     "output_type": "execute_result"
    }
   ],
   "source": [
    "df[(df['Average Rating']>4.5)]['Agent Name']"
   ]
  },
  {
   "cell_type": "markdown",
   "id": "8182afa0",
   "metadata": {},
   "source": [
    "#### 8 . How many feedaback agents have received more then 4.5 average"
   ]
  },
  {
   "cell_type": "code",
   "execution_count": 57,
   "id": "c079d44f",
   "metadata": {},
   "outputs": [
    {
     "data": {
      "text/plain": [
       "Agent Name\n",
       "Abhishek         False\n",
       "Aditya           False\n",
       "Aditya Shinde     True\n",
       "Aditya_iot       False\n",
       "Amersh           False\n",
       "                 ...  \n",
       "Uday Mishra      False\n",
       "Vasanth P        False\n",
       "Vivek            False\n",
       "Wasim             True\n",
       "Zeeshan           True\n",
       "Name: Total Feedback, Length: 70, dtype: bool"
      ]
     },
     "execution_count": 57,
     "metadata": {},
     "output_type": "execute_result"
    }
   ],
   "source": [
    "df.groupby('Agent Name')['Total Feedback'].mean()>4.5"
   ]
  },
  {
   "cell_type": "markdown",
   "id": "375877e9",
   "metadata": {},
   "source": [
    "#### 9 . Average weekly response time for each agent "
   ]
  },
  {
   "cell_type": "code",
   "execution_count": 79,
   "id": "aa5d26b1",
   "metadata": {},
   "outputs": [],
   "source": [
    "def get_seconds(time_str):\n",
    "    #print('Time in hh:mm:ss:', time_str)\n",
    "    # split in hh, mm, ss\n",
    "    hh, mm, ss = time_str.split(':')\n",
    "    return int(hh) * 3600 + int(mm) * 60 + int(ss)\n",
    "    "
   ]
  },
  {
   "cell_type": "code",
   "execution_count": 81,
   "id": "c10f67e9",
   "metadata": {},
   "outputs": [],
   "source": [
    "avg_response_sec=[]\n",
    "for t in df['Average Response Time']:\n",
    "    avg_response_sec.append(get_seconds(t))\n",
    "avg_response_sec\n",
    "df['avg_response_sec'] = avg_response_sec"
   ]
  },
  {
   "cell_type": "code",
   "execution_count": 82,
   "id": "02cc3aa2",
   "metadata": {},
   "outputs": [
    {
     "data": {
      "text/html": [
       "<div>\n",
       "<style scoped>\n",
       "    .dataframe tbody tr th:only-of-type {\n",
       "        vertical-align: middle;\n",
       "    }\n",
       "\n",
       "    .dataframe tbody tr th {\n",
       "        vertical-align: top;\n",
       "    }\n",
       "\n",
       "    .dataframe thead th {\n",
       "        text-align: right;\n",
       "    }\n",
       "</style>\n",
       "<table border=\"1\" class=\"dataframe\">\n",
       "  <thead>\n",
       "    <tr style=\"text-align: right;\">\n",
       "      <th></th>\n",
       "      <th>SL No</th>\n",
       "      <th>Date</th>\n",
       "      <th>Agent Name</th>\n",
       "      <th>Total Chats</th>\n",
       "      <th>Average Response Time</th>\n",
       "      <th>Average Resolution Time</th>\n",
       "      <th>Average Rating</th>\n",
       "      <th>Total Feedback</th>\n",
       "      <th>date</th>\n",
       "      <th>date_week</th>\n",
       "      <th>date_days</th>\n",
       "      <th>working_days</th>\n",
       "      <th>avg_response_sec</th>\n",
       "    </tr>\n",
       "  </thead>\n",
       "  <tbody>\n",
       "    <tr>\n",
       "      <th>0</th>\n",
       "      <td>1</td>\n",
       "      <td>2022-07-30</td>\n",
       "      <td>Prerna Singh</td>\n",
       "      <td>11</td>\n",
       "      <td>00:00:38</td>\n",
       "      <td>00:04:20</td>\n",
       "      <td>4.11</td>\n",
       "      <td>9</td>\n",
       "      <td>2022-07-30</td>\n",
       "      <td>30</td>\n",
       "      <td>30</td>\n",
       "      <td>NaN</td>\n",
       "      <td>38</td>\n",
       "    </tr>\n",
       "    <tr>\n",
       "      <th>1</th>\n",
       "      <td>2</td>\n",
       "      <td>2022-07-30</td>\n",
       "      <td>Nandani Gupta</td>\n",
       "      <td>11</td>\n",
       "      <td>00:01:15</td>\n",
       "      <td>00:28:25</td>\n",
       "      <td>3.14</td>\n",
       "      <td>7</td>\n",
       "      <td>2022-07-30</td>\n",
       "      <td>30</td>\n",
       "      <td>30</td>\n",
       "      <td>NaN</td>\n",
       "      <td>75</td>\n",
       "    </tr>\n",
       "    <tr>\n",
       "      <th>2</th>\n",
       "      <td>3</td>\n",
       "      <td>2022-07-30</td>\n",
       "      <td>Ameya Jain</td>\n",
       "      <td>14</td>\n",
       "      <td>00:00:30</td>\n",
       "      <td>00:11:36</td>\n",
       "      <td>4.55</td>\n",
       "      <td>11</td>\n",
       "      <td>2022-07-30</td>\n",
       "      <td>30</td>\n",
       "      <td>30</td>\n",
       "      <td>NaN</td>\n",
       "      <td>30</td>\n",
       "    </tr>\n",
       "    <tr>\n",
       "      <th>3</th>\n",
       "      <td>4</td>\n",
       "      <td>2022-07-30</td>\n",
       "      <td>Mahesh Sarade</td>\n",
       "      <td>14</td>\n",
       "      <td>00:01:04</td>\n",
       "      <td>00:15:46</td>\n",
       "      <td>4.71</td>\n",
       "      <td>7</td>\n",
       "      <td>2022-07-30</td>\n",
       "      <td>30</td>\n",
       "      <td>30</td>\n",
       "      <td>NaN</td>\n",
       "      <td>64</td>\n",
       "    </tr>\n",
       "    <tr>\n",
       "      <th>4</th>\n",
       "      <td>5</td>\n",
       "      <td>2022-07-30</td>\n",
       "      <td>Swati</td>\n",
       "      <td>14</td>\n",
       "      <td>00:01:11</td>\n",
       "      <td>00:16:33</td>\n",
       "      <td>3.67</td>\n",
       "      <td>6</td>\n",
       "      <td>2022-07-30</td>\n",
       "      <td>30</td>\n",
       "      <td>30</td>\n",
       "      <td>NaN</td>\n",
       "      <td>71</td>\n",
       "    </tr>\n",
       "  </tbody>\n",
       "</table>\n",
       "</div>"
      ],
      "text/plain": [
       "   SL No        Date     Agent Name  Total Chats Average Response Time  \\\n",
       "0      1  2022-07-30   Prerna Singh           11              00:00:38   \n",
       "1      2  2022-07-30  Nandani Gupta           11              00:01:15   \n",
       "2      3  2022-07-30     Ameya Jain           14              00:00:30   \n",
       "3      4  2022-07-30  Mahesh Sarade           14              00:01:04   \n",
       "4      5  2022-07-30         Swati            14              00:01:11   \n",
       "\n",
       "  Average Resolution Time  Average Rating  Total Feedback       date  \\\n",
       "0                00:04:20            4.11               9 2022-07-30   \n",
       "1                00:28:25            3.14               7 2022-07-30   \n",
       "2                00:11:36            4.55              11 2022-07-30   \n",
       "3                00:15:46            4.71               7 2022-07-30   \n",
       "4                00:16:33            3.67               6 2022-07-30   \n",
       "\n",
       "   date_week  date_days  working_days  avg_response_sec  \n",
       "0         30         30           NaN                38  \n",
       "1         30         30           NaN                75  \n",
       "2         30         30           NaN                30  \n",
       "3         30         30           NaN                64  \n",
       "4         30         30           NaN                71  "
      ]
     },
     "execution_count": 82,
     "metadata": {},
     "output_type": "execute_result"
    }
   ],
   "source": [
    "df.head()"
   ]
  },
  {
   "cell_type": "code",
   "execution_count": 84,
   "id": "9e9c9276",
   "metadata": {},
   "outputs": [
    {
     "data": {
      "text/plain": [
       "Agent Name  date_week\n",
       "Abhishek    26             0.000000\n",
       "            27             0.000000\n",
       "            28             0.000000\n",
       "            29             0.000000\n",
       "            30             0.000000\n",
       "                            ...    \n",
       "Zeeshan     26             0.000000\n",
       "            27            23.571429\n",
       "            28           123.428571\n",
       "            29            62.857143\n",
       "            30            63.833333\n",
       "Name: avg_response_sec, Length: 350, dtype: float64"
      ]
     },
     "execution_count": 84,
     "metadata": {},
     "output_type": "execute_result"
    }
   ],
   "source": [
    "df.groupby(['Agent Name','date_week'])['avg_response_sec'].mean()"
   ]
  },
  {
   "cell_type": "markdown",
   "id": "a81b37a2",
   "metadata": {},
   "source": [
    "#### 10 . Average weekely resolution time for each agents "
   ]
  },
  {
   "cell_type": "code",
   "execution_count": 85,
   "id": "63f6bcf3",
   "metadata": {},
   "outputs": [
    {
     "data": {
      "text/html": [
       "<div>\n",
       "<style scoped>\n",
       "    .dataframe tbody tr th:only-of-type {\n",
       "        vertical-align: middle;\n",
       "    }\n",
       "\n",
       "    .dataframe tbody tr th {\n",
       "        vertical-align: top;\n",
       "    }\n",
       "\n",
       "    .dataframe thead th {\n",
       "        text-align: right;\n",
       "    }\n",
       "</style>\n",
       "<table border=\"1\" class=\"dataframe\">\n",
       "  <thead>\n",
       "    <tr style=\"text-align: right;\">\n",
       "      <th></th>\n",
       "      <th>SL No</th>\n",
       "      <th>Date</th>\n",
       "      <th>Agent Name</th>\n",
       "      <th>Total Chats</th>\n",
       "      <th>Average Response Time</th>\n",
       "      <th>Average Resolution Time</th>\n",
       "      <th>Average Rating</th>\n",
       "      <th>Total Feedback</th>\n",
       "      <th>date</th>\n",
       "      <th>date_week</th>\n",
       "      <th>date_days</th>\n",
       "      <th>working_days</th>\n",
       "      <th>avg_response_sec</th>\n",
       "      <th>avg_resolution_time_sec</th>\n",
       "    </tr>\n",
       "  </thead>\n",
       "  <tbody>\n",
       "    <tr>\n",
       "      <th>0</th>\n",
       "      <td>1</td>\n",
       "      <td>2022-07-30</td>\n",
       "      <td>Prerna Singh</td>\n",
       "      <td>11</td>\n",
       "      <td>00:00:38</td>\n",
       "      <td>00:04:20</td>\n",
       "      <td>4.11</td>\n",
       "      <td>9</td>\n",
       "      <td>2022-07-30</td>\n",
       "      <td>30</td>\n",
       "      <td>30</td>\n",
       "      <td>NaN</td>\n",
       "      <td>38</td>\n",
       "      <td>260</td>\n",
       "    </tr>\n",
       "    <tr>\n",
       "      <th>1</th>\n",
       "      <td>2</td>\n",
       "      <td>2022-07-30</td>\n",
       "      <td>Nandani Gupta</td>\n",
       "      <td>11</td>\n",
       "      <td>00:01:15</td>\n",
       "      <td>00:28:25</td>\n",
       "      <td>3.14</td>\n",
       "      <td>7</td>\n",
       "      <td>2022-07-30</td>\n",
       "      <td>30</td>\n",
       "      <td>30</td>\n",
       "      <td>NaN</td>\n",
       "      <td>75</td>\n",
       "      <td>1705</td>\n",
       "    </tr>\n",
       "    <tr>\n",
       "      <th>2</th>\n",
       "      <td>3</td>\n",
       "      <td>2022-07-30</td>\n",
       "      <td>Ameya Jain</td>\n",
       "      <td>14</td>\n",
       "      <td>00:00:30</td>\n",
       "      <td>00:11:36</td>\n",
       "      <td>4.55</td>\n",
       "      <td>11</td>\n",
       "      <td>2022-07-30</td>\n",
       "      <td>30</td>\n",
       "      <td>30</td>\n",
       "      <td>NaN</td>\n",
       "      <td>30</td>\n",
       "      <td>696</td>\n",
       "    </tr>\n",
       "    <tr>\n",
       "      <th>3</th>\n",
       "      <td>4</td>\n",
       "      <td>2022-07-30</td>\n",
       "      <td>Mahesh Sarade</td>\n",
       "      <td>14</td>\n",
       "      <td>00:01:04</td>\n",
       "      <td>00:15:46</td>\n",
       "      <td>4.71</td>\n",
       "      <td>7</td>\n",
       "      <td>2022-07-30</td>\n",
       "      <td>30</td>\n",
       "      <td>30</td>\n",
       "      <td>NaN</td>\n",
       "      <td>64</td>\n",
       "      <td>946</td>\n",
       "    </tr>\n",
       "    <tr>\n",
       "      <th>4</th>\n",
       "      <td>5</td>\n",
       "      <td>2022-07-30</td>\n",
       "      <td>Swati</td>\n",
       "      <td>14</td>\n",
       "      <td>00:01:11</td>\n",
       "      <td>00:16:33</td>\n",
       "      <td>3.67</td>\n",
       "      <td>6</td>\n",
       "      <td>2022-07-30</td>\n",
       "      <td>30</td>\n",
       "      <td>30</td>\n",
       "      <td>NaN</td>\n",
       "      <td>71</td>\n",
       "      <td>993</td>\n",
       "    </tr>\n",
       "  </tbody>\n",
       "</table>\n",
       "</div>"
      ],
      "text/plain": [
       "   SL No        Date     Agent Name  Total Chats Average Response Time  \\\n",
       "0      1  2022-07-30   Prerna Singh           11              00:00:38   \n",
       "1      2  2022-07-30  Nandani Gupta           11              00:01:15   \n",
       "2      3  2022-07-30     Ameya Jain           14              00:00:30   \n",
       "3      4  2022-07-30  Mahesh Sarade           14              00:01:04   \n",
       "4      5  2022-07-30         Swati            14              00:01:11   \n",
       "\n",
       "  Average Resolution Time  Average Rating  Total Feedback       date  \\\n",
       "0                00:04:20            4.11               9 2022-07-30   \n",
       "1                00:28:25            3.14               7 2022-07-30   \n",
       "2                00:11:36            4.55              11 2022-07-30   \n",
       "3                00:15:46            4.71               7 2022-07-30   \n",
       "4                00:16:33            3.67               6 2022-07-30   \n",
       "\n",
       "   date_week  date_days  working_days  avg_response_sec  \\\n",
       "0         30         30           NaN                38   \n",
       "1         30         30           NaN                75   \n",
       "2         30         30           NaN                30   \n",
       "3         30         30           NaN                64   \n",
       "4         30         30           NaN                71   \n",
       "\n",
       "   avg_resolution_time_sec  \n",
       "0                      260  \n",
       "1                     1705  \n",
       "2                      696  \n",
       "3                      946  \n",
       "4                      993  "
      ]
     },
     "execution_count": 85,
     "metadata": {},
     "output_type": "execute_result"
    }
   ],
   "source": [
    "avg_resolution_time_sec=[]\n",
    "for t in df['Average Resolution Time']:\n",
    "    avg_resolution_time_sec.append(get_seconds(t))\n",
    "avg_resolution_time_sec\n",
    "df['avg_resolution_time_sec'] = avg_resolution_time_sec\n",
    "df.head()"
   ]
  },
  {
   "cell_type": "code",
   "execution_count": 86,
   "id": "8b0cfac5",
   "metadata": {},
   "outputs": [
    {
     "data": {
      "text/plain": [
       "Agent Name  date_week\n",
       "Abhishek    26             0.000000\n",
       "            27             0.000000\n",
       "            28             0.000000\n",
       "            29             0.000000\n",
       "            30             0.000000\n",
       "                            ...    \n",
       "Zeeshan     26             0.000000\n",
       "            27           323.000000\n",
       "            28           984.285714\n",
       "            29           794.285714\n",
       "            30           773.500000\n",
       "Name: avg_resolution_time_sec, Length: 350, dtype: float64"
      ]
     },
     "execution_count": 86,
     "metadata": {},
     "output_type": "execute_result"
    }
   ],
   "source": [
    "df.groupby(['Agent Name','date_week'])['avg_resolution_time_sec'].mean()"
   ]
  },
  {
   "cell_type": "markdown",
   "id": "9b769e3d",
   "metadata": {},
   "source": [
    "#### 11 . List of all agents name "
   ]
  },
  {
   "cell_type": "code",
   "execution_count": 90,
   "id": "87c13c88",
   "metadata": {},
   "outputs": [
    {
     "data": {
      "text/plain": [
       "{'Abhishek ',\n",
       " 'Aditya ',\n",
       " 'Aditya Shinde',\n",
       " 'Aditya_iot ',\n",
       " 'Amersh ',\n",
       " 'Ameya Jain',\n",
       " 'Anirudh ',\n",
       " 'Ankit Sharma',\n",
       " 'Ankitjha ',\n",
       " 'Anurag Tiwari',\n",
       " 'Aravind ',\n",
       " 'Ashad Nasim',\n",
       " 'Ashish ',\n",
       " 'Ayushi Mishra',\n",
       " 'Bharath ',\n",
       " 'Boktiar Ahmed Bappy',\n",
       " 'Chaitra K Hiremath',\n",
       " 'Deepranjan Gupta',\n",
       " 'Dibyanshu ',\n",
       " 'Harikrishnan Shaji',\n",
       " 'Hitesh Choudhary',\n",
       " 'Hrisikesh Neogi',\n",
       " 'Hyder Abbas',\n",
       " 'Ineuron Intelligence ',\n",
       " 'Ishawant Kumar',\n",
       " 'Jawala Prakash',\n",
       " 'Jayant Kumar',\n",
       " 'Jaydeep Dixit',\n",
       " 'Khushboo Priya',\n",
       " 'Madhulika G',\n",
       " 'Mahak ',\n",
       " 'Mahesh Sarade',\n",
       " 'Maitry ',\n",
       " 'Maneesh ',\n",
       " 'Manjunatha A',\n",
       " 'Mithun S',\n",
       " 'Mukesh ',\n",
       " 'Mukesh Rao ',\n",
       " 'Muskan Garg',\n",
       " 'Nandani Gupta',\n",
       " 'Nishtha Jain',\n",
       " 'Nitin M',\n",
       " 'Prabir Kumar Satapathy',\n",
       " 'Prateek _iot ',\n",
       " 'Prerna Singh',\n",
       " 'Rishav Dash',\n",
       " 'Rohan ',\n",
       " 'Saif Khan',\n",
       " 'Saikumarreddy N',\n",
       " 'Samprit ',\n",
       " 'Sandipan Saha',\n",
       " 'Sanjeev Kumar',\n",
       " 'Sanjeevan ',\n",
       " 'Saurabh Shukla',\n",
       " 'Shiva Srivastava',\n",
       " 'Shivan K',\n",
       " 'Shivan_S ',\n",
       " 'Shivananda Sonwane',\n",
       " 'Shubham Sharma',\n",
       " 'Sowmiya Sivakumar',\n",
       " 'Spuri ',\n",
       " 'Sudhanshu Kumar',\n",
       " 'Suraj S Bilgi',\n",
       " 'Swati ',\n",
       " 'Tarun ',\n",
       " 'Uday Mishra',\n",
       " 'Vasanth P',\n",
       " 'Vivek ',\n",
       " 'Wasim ',\n",
       " 'Zeeshan '}"
      ]
     },
     "execution_count": 90,
     "metadata": {},
     "output_type": "execute_result"
    }
   ],
   "source": [
    "set(df['Agent Name'])"
   ]
  },
  {
   "cell_type": "markdown",
   "id": "5481d07d",
   "metadata": {},
   "source": [
    "#### 12 . percentage of chat on which they have received a feedback"
   ]
  },
  {
   "cell_type": "code",
   "execution_count": 94,
   "id": "966fa7f2",
   "metadata": {},
   "outputs": [
    {
     "data": {
      "text/plain": [
       "Agent Name     Total Chats\n",
       "Abhishek       0               0\n",
       "Aditya         0               0\n",
       "Aditya Shinde  0               0\n",
       "               8               7\n",
       "               14              9\n",
       "                              ..\n",
       "Zeeshan        36             28\n",
       "               37             25\n",
       "               41             25\n",
       "               46             28\n",
       "               92             35\n",
       "Name: Total Feedback, Length: 638, dtype: int64"
      ]
     },
     "execution_count": 94,
     "metadata": {},
     "output_type": "execute_result"
    }
   ],
   "source": [
    "df.groupby(['Agent Name','Total Chats'])['Total Feedback'].sum()"
   ]
  },
  {
   "cell_type": "markdown",
   "id": "c7d0a341",
   "metadata": {},
   "source": [
    "#### 13 . Total contributation hour for each and every agents weekly basis "
   ]
  },
  {
   "cell_type": "code",
   "execution_count": 138,
   "id": "4c73f5d9",
   "metadata": {},
   "outputs": [
    {
     "data": {
      "text/html": [
       "<div>\n",
       "<style scoped>\n",
       "    .dataframe tbody tr th:only-of-type {\n",
       "        vertical-align: middle;\n",
       "    }\n",
       "\n",
       "    .dataframe tbody tr th {\n",
       "        vertical-align: top;\n",
       "    }\n",
       "\n",
       "    .dataframe thead th {\n",
       "        text-align: right;\n",
       "    }\n",
       "</style>\n",
       "<table border=\"1\" class=\"dataframe\">\n",
       "  <thead>\n",
       "    <tr style=\"text-align: right;\">\n",
       "      <th></th>\n",
       "      <th>SL No</th>\n",
       "      <th>Agent</th>\n",
       "      <th>Date</th>\n",
       "      <th>Login Time</th>\n",
       "      <th>Logout Time</th>\n",
       "      <th>Duration</th>\n",
       "    </tr>\n",
       "  </thead>\n",
       "  <tbody>\n",
       "    <tr>\n",
       "      <th>0</th>\n",
       "      <td>1</td>\n",
       "      <td>Shivananda Sonwane</td>\n",
       "      <td>30-Jul-22</td>\n",
       "      <td>03:35:29 PM</td>\n",
       "      <td>05:39:39 PM</td>\n",
       "      <td>02:04:10</td>\n",
       "    </tr>\n",
       "    <tr>\n",
       "      <th>1</th>\n",
       "      <td>2</td>\n",
       "      <td>Khushboo Priya</td>\n",
       "      <td>30-Jul-22</td>\n",
       "      <td>03:06:59 PM</td>\n",
       "      <td>03:07:16 PM</td>\n",
       "      <td>00:00:17</td>\n",
       "    </tr>\n",
       "    <tr>\n",
       "      <th>2</th>\n",
       "      <td>3</td>\n",
       "      <td>Nandani Gupta</td>\n",
       "      <td>30-Jul-22</td>\n",
       "      <td>03:04:24 PM</td>\n",
       "      <td>05:31:07 PM</td>\n",
       "      <td>02:26:42</td>\n",
       "    </tr>\n",
       "    <tr>\n",
       "      <th>3</th>\n",
       "      <td>4</td>\n",
       "      <td>Hrisikesh Neogi</td>\n",
       "      <td>30-Jul-22</td>\n",
       "      <td>02:34:29 PM</td>\n",
       "      <td>03:19:35 PM</td>\n",
       "      <td>00:45:06</td>\n",
       "    </tr>\n",
       "    <tr>\n",
       "      <th>4</th>\n",
       "      <td>5</td>\n",
       "      <td>Mukesh</td>\n",
       "      <td>30-Jul-22</td>\n",
       "      <td>02:03:15 PM</td>\n",
       "      <td>03:11:52 PM</td>\n",
       "      <td>01:08:36</td>\n",
       "    </tr>\n",
       "  </tbody>\n",
       "</table>\n",
       "</div>"
      ],
      "text/plain": [
       "   SL No               Agent       Date   Login Time  Logout Time  Duration\n",
       "0      1  Shivananda Sonwane  30-Jul-22  03:35:29 PM  05:39:39 PM  02:04:10\n",
       "1      2      Khushboo Priya  30-Jul-22  03:06:59 PM  03:07:16 PM  00:00:17\n",
       "2      3       Nandani Gupta  30-Jul-22  03:04:24 PM  05:31:07 PM  02:26:42\n",
       "3      4     Hrisikesh Neogi  30-Jul-22  02:34:29 PM  03:19:35 PM  00:45:06\n",
       "4      5             Mukesh   30-Jul-22  02:03:15 PM  03:11:52 PM  01:08:36"
      ]
     },
     "execution_count": 138,
     "metadata": {},
     "output_type": "execute_result"
    }
   ],
   "source": [
    "df1 = pd.read_excel('Agent_Login_Report.xls',skiprows=2)\n",
    "df1.head()"
   ]
  },
  {
   "cell_type": "code",
   "execution_count": 139,
   "id": "bc76ecde",
   "metadata": {},
   "outputs": [
    {
     "data": {
      "text/plain": [
       "SL No           int64\n",
       "Agent          object\n",
       "Date           object\n",
       "Login Time     object\n",
       "Logout Time    object\n",
       "Duration       object\n",
       "dtype: object"
      ]
     },
     "execution_count": 139,
     "metadata": {},
     "output_type": "execute_result"
    }
   ],
   "source": [
    "df1.dtypes"
   ]
  },
  {
   "cell_type": "code",
   "execution_count": 140,
   "id": "97210480",
   "metadata": {},
   "outputs": [],
   "source": [
    "df1['Date'] = pd.to_datetime(df1['Date'])"
   ]
  },
  {
   "cell_type": "code",
   "execution_count": 141,
   "id": "0d4c5f63",
   "metadata": {},
   "outputs": [],
   "source": [
    "df1['week'] = df1['Date'].dt.isocalendar().week"
   ]
  },
  {
   "cell_type": "code",
   "execution_count": 142,
   "id": "8175964b",
   "metadata": {},
   "outputs": [],
   "source": [
    "Total_duration_secs=[]\n",
    "for t in df1['Duration']:\n",
    "    Total_duration_secs.append(get_seconds(t))\n",
    "Total_duration_secs\n",
    "df1['Total_duration_secs'] = Total_duration_secs"
   ]
  },
  {
   "cell_type": "code",
   "execution_count": 143,
   "id": "c1a98a45",
   "metadata": {},
   "outputs": [
    {
     "data": {
      "text/plain": [
       "SL No                           int64\n",
       "Agent                          object\n",
       "Date                   datetime64[ns]\n",
       "Login Time                     object\n",
       "Logout Time                    object\n",
       "Duration                       object\n",
       "week                           UInt32\n",
       "Total_duration_secs             int64\n",
       "dtype: object"
      ]
     },
     "execution_count": 143,
     "metadata": {},
     "output_type": "execute_result"
    }
   ],
   "source": [
    "df1.dtypes"
   ]
  },
  {
   "cell_type": "code",
   "execution_count": 148,
   "id": "0c3c9d1f",
   "metadata": {},
   "outputs": [],
   "source": [
    "df1['hours']=df1['Total_duration_secs']//3600"
   ]
  },
  {
   "cell_type": "code",
   "execution_count": 149,
   "id": "aa60e7cc",
   "metadata": {},
   "outputs": [
    {
     "data": {
      "text/plain": [
       "Agent          week\n",
       "Aditya Shinde  30        0.000000\n",
       "Aditya_iot     29        1.666667\n",
       "               30        1.166667\n",
       "Amersh         30        0.500000\n",
       "Ameya Jain     29        3.000000\n",
       "                          ...    \n",
       "Tarun          26      514.000000\n",
       "Wasim          29        2.000000\n",
       "               30        2.272727\n",
       "Zeeshan        29        3.833333\n",
       "               30        6.000000\n",
       "Name: hours, Length: 89, dtype: float64"
      ]
     },
     "execution_count": 149,
     "metadata": {},
     "output_type": "execute_result"
    }
   ],
   "source": [
    "df1.groupby(['Agent','week'])['hours'].mean()"
   ]
  },
  {
   "cell_type": "markdown",
   "id": "f98760cb",
   "metadata": {},
   "source": [
    "#### 14. total percentage of active hour for a month"
   ]
  },
  {
   "cell_type": "code",
   "execution_count": 150,
   "id": "d91dc7af",
   "metadata": {},
   "outputs": [
    {
     "data": {
      "text/html": [
       "<div>\n",
       "<style scoped>\n",
       "    .dataframe tbody tr th:only-of-type {\n",
       "        vertical-align: middle;\n",
       "    }\n",
       "\n",
       "    .dataframe tbody tr th {\n",
       "        vertical-align: top;\n",
       "    }\n",
       "\n",
       "    .dataframe thead th {\n",
       "        text-align: right;\n",
       "    }\n",
       "</style>\n",
       "<table border=\"1\" class=\"dataframe\">\n",
       "  <thead>\n",
       "    <tr style=\"text-align: right;\">\n",
       "      <th></th>\n",
       "      <th>SL No</th>\n",
       "      <th>Agent</th>\n",
       "      <th>Date</th>\n",
       "      <th>Login Time</th>\n",
       "      <th>Logout Time</th>\n",
       "      <th>Duration</th>\n",
       "      <th>week</th>\n",
       "      <th>Total_duration_secs</th>\n",
       "      <th>hours</th>\n",
       "      <th>month</th>\n",
       "    </tr>\n",
       "  </thead>\n",
       "  <tbody>\n",
       "    <tr>\n",
       "      <th>0</th>\n",
       "      <td>1</td>\n",
       "      <td>Shivananda Sonwane</td>\n",
       "      <td>2022-07-30</td>\n",
       "      <td>03:35:29 PM</td>\n",
       "      <td>05:39:39 PM</td>\n",
       "      <td>02:04:10</td>\n",
       "      <td>30</td>\n",
       "      <td>7450</td>\n",
       "      <td>2</td>\n",
       "      <td>7</td>\n",
       "    </tr>\n",
       "    <tr>\n",
       "      <th>1</th>\n",
       "      <td>2</td>\n",
       "      <td>Khushboo Priya</td>\n",
       "      <td>2022-07-30</td>\n",
       "      <td>03:06:59 PM</td>\n",
       "      <td>03:07:16 PM</td>\n",
       "      <td>00:00:17</td>\n",
       "      <td>30</td>\n",
       "      <td>17</td>\n",
       "      <td>0</td>\n",
       "      <td>7</td>\n",
       "    </tr>\n",
       "    <tr>\n",
       "      <th>2</th>\n",
       "      <td>3</td>\n",
       "      <td>Nandani Gupta</td>\n",
       "      <td>2022-07-30</td>\n",
       "      <td>03:04:24 PM</td>\n",
       "      <td>05:31:07 PM</td>\n",
       "      <td>02:26:42</td>\n",
       "      <td>30</td>\n",
       "      <td>8802</td>\n",
       "      <td>2</td>\n",
       "      <td>7</td>\n",
       "    </tr>\n",
       "    <tr>\n",
       "      <th>3</th>\n",
       "      <td>4</td>\n",
       "      <td>Hrisikesh Neogi</td>\n",
       "      <td>2022-07-30</td>\n",
       "      <td>02:34:29 PM</td>\n",
       "      <td>03:19:35 PM</td>\n",
       "      <td>00:45:06</td>\n",
       "      <td>30</td>\n",
       "      <td>2706</td>\n",
       "      <td>0</td>\n",
       "      <td>7</td>\n",
       "    </tr>\n",
       "    <tr>\n",
       "      <th>4</th>\n",
       "      <td>5</td>\n",
       "      <td>Mukesh</td>\n",
       "      <td>2022-07-30</td>\n",
       "      <td>02:03:15 PM</td>\n",
       "      <td>03:11:52 PM</td>\n",
       "      <td>01:08:36</td>\n",
       "      <td>30</td>\n",
       "      <td>4116</td>\n",
       "      <td>1</td>\n",
       "      <td>7</td>\n",
       "    </tr>\n",
       "    <tr>\n",
       "      <th>...</th>\n",
       "      <td>...</td>\n",
       "      <td>...</td>\n",
       "      <td>...</td>\n",
       "      <td>...</td>\n",
       "      <td>...</td>\n",
       "      <td>...</td>\n",
       "      <td>...</td>\n",
       "      <td>...</td>\n",
       "      <td>...</td>\n",
       "      <td>...</td>\n",
       "    </tr>\n",
       "    <tr>\n",
       "      <th>995</th>\n",
       "      <td>996</td>\n",
       "      <td>Manjunatha A</td>\n",
       "      <td>2022-07-20</td>\n",
       "      <td>09:03:51 AM</td>\n",
       "      <td>03:02:28 PM</td>\n",
       "      <td>05:58:37</td>\n",
       "      <td>29</td>\n",
       "      <td>21517</td>\n",
       "      <td>5</td>\n",
       "      <td>7</td>\n",
       "    </tr>\n",
       "    <tr>\n",
       "      <th>996</th>\n",
       "      <td>997</td>\n",
       "      <td>Bharath</td>\n",
       "      <td>2022-07-20</td>\n",
       "      <td>09:00:49 AM</td>\n",
       "      <td>03:01:32 PM</td>\n",
       "      <td>06:00:43</td>\n",
       "      <td>29</td>\n",
       "      <td>21643</td>\n",
       "      <td>6</td>\n",
       "      <td>7</td>\n",
       "    </tr>\n",
       "    <tr>\n",
       "      <th>997</th>\n",
       "      <td>998</td>\n",
       "      <td>Khushboo Priya</td>\n",
       "      <td>2022-07-20</td>\n",
       "      <td>08:59:20 AM</td>\n",
       "      <td>02:26:55 PM</td>\n",
       "      <td>05:27:34</td>\n",
       "      <td>29</td>\n",
       "      <td>19654</td>\n",
       "      <td>5</td>\n",
       "      <td>7</td>\n",
       "    </tr>\n",
       "    <tr>\n",
       "      <th>998</th>\n",
       "      <td>999</td>\n",
       "      <td>Nishtha Jain</td>\n",
       "      <td>2022-07-20</td>\n",
       "      <td>08:43:55 AM</td>\n",
       "      <td>02:00:33 PM</td>\n",
       "      <td>05:16:38</td>\n",
       "      <td>29</td>\n",
       "      <td>18998</td>\n",
       "      <td>5</td>\n",
       "      <td>7</td>\n",
       "    </tr>\n",
       "    <tr>\n",
       "      <th>999</th>\n",
       "      <td>1000</td>\n",
       "      <td>Tarun</td>\n",
       "      <td>2022-07-01</td>\n",
       "      <td>01:52:47 AM</td>\n",
       "      <td>12:01:07 PM</td>\n",
       "      <td>514:08:20</td>\n",
       "      <td>26</td>\n",
       "      <td>1850900</td>\n",
       "      <td>514</td>\n",
       "      <td>7</td>\n",
       "    </tr>\n",
       "  </tbody>\n",
       "</table>\n",
       "<p>1000 rows × 10 columns</p>\n",
       "</div>"
      ],
      "text/plain": [
       "     SL No               Agent       Date   Login Time  Logout Time  \\\n",
       "0        1  Shivananda Sonwane 2022-07-30  03:35:29 PM  05:39:39 PM   \n",
       "1        2      Khushboo Priya 2022-07-30  03:06:59 PM  03:07:16 PM   \n",
       "2        3       Nandani Gupta 2022-07-30  03:04:24 PM  05:31:07 PM   \n",
       "3        4     Hrisikesh Neogi 2022-07-30  02:34:29 PM  03:19:35 PM   \n",
       "4        5             Mukesh  2022-07-30  02:03:15 PM  03:11:52 PM   \n",
       "..     ...                 ...        ...          ...          ...   \n",
       "995    996        Manjunatha A 2022-07-20  09:03:51 AM  03:02:28 PM   \n",
       "996    997            Bharath  2022-07-20  09:00:49 AM  03:01:32 PM   \n",
       "997    998      Khushboo Priya 2022-07-20  08:59:20 AM  02:26:55 PM   \n",
       "998    999        Nishtha Jain 2022-07-20  08:43:55 AM  02:00:33 PM   \n",
       "999   1000              Tarun  2022-07-01  01:52:47 AM  12:01:07 PM   \n",
       "\n",
       "      Duration  week  Total_duration_secs  hours  month  \n",
       "0     02:04:10    30                 7450      2      7  \n",
       "1     00:00:17    30                   17      0      7  \n",
       "2     02:26:42    30                 8802      2      7  \n",
       "3     00:45:06    30                 2706      0      7  \n",
       "4     01:08:36    30                 4116      1      7  \n",
       "..         ...   ...                  ...    ...    ...  \n",
       "995   05:58:37    29                21517      5      7  \n",
       "996   06:00:43    29                21643      6      7  \n",
       "997   05:27:34    29                19654      5      7  \n",
       "998   05:16:38    29                18998      5      7  \n",
       "999  514:08:20    26              1850900    514      7  \n",
       "\n",
       "[1000 rows x 10 columns]"
      ]
     },
     "execution_count": 150,
     "metadata": {},
     "output_type": "execute_result"
    }
   ],
   "source": [
    "df1['month'] = df1['Date'].dt.month\n",
    "df1"
   ]
  },
  {
   "cell_type": "code",
   "execution_count": 157,
   "id": "b5829de7",
   "metadata": {},
   "outputs": [
    {
     "data": {
      "text/plain": [
       "0       0.105097\n",
       "1       0.000000\n",
       "2       0.105097\n",
       "3       0.000000\n",
       "4       0.052549\n",
       "         ...    \n",
       "995     0.262743\n",
       "996     0.315292\n",
       "997     0.262743\n",
       "998     0.262743\n",
       "999    27.009984\n",
       "Name: hours, Length: 1000, dtype: float64"
      ]
     },
     "execution_count": 157,
     "metadata": {},
     "output_type": "execute_result"
    }
   ],
   "source": [
    "100*df1['hours']/df1.groupby('month')['hours'].transform('sum')"
   ]
  },
  {
   "cell_type": "code",
   "execution_count": null,
   "id": "0a21e043",
   "metadata": {},
   "outputs": [],
   "source": []
  }
 ],
 "metadata": {
  "kernelspec": {
   "display_name": "Python 3 (ipykernel)",
   "language": "python",
   "name": "python3"
  },
  "language_info": {
   "codemirror_mode": {
    "name": "ipython",
    "version": 3
   },
   "file_extension": ".py",
   "mimetype": "text/x-python",
   "name": "python",
   "nbconvert_exporter": "python",
   "pygments_lexer": "ipython3",
   "version": "3.9.7"
  }
 },
 "nbformat": 4,
 "nbformat_minor": 5
}
